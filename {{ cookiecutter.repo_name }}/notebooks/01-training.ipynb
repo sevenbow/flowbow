{
 "cells": [
  {
   "cell_type": "code",
   "execution_count": null,
   "metadata": {
    "vscode": {
     "languageId": "plaintext"
    }
   },
   "outputs": [],
   "source": [
    "%load_ext autoreload\n",
    "%autoreload 2"
   ]
  },
  {
   "cell_type": "code",
   "execution_count": null,
   "metadata": {
    "vscode": {
     "languageId": "plaintext"
    }
   },
   "outputs": [],
   "source": [
    "from {{ cookiecutter.module_name }}.config import DATA_DIR\n",
    "from {{ cookiecutter.module_name }}.dataset import load_data\n",
    "from {{ cookiecutter.module_name }}.features import feature_engineering_train\n",
    "from {{ cookiecutter.module_name }}.train import train"
   ]
  },
  {
   "cell_type": "code",
   "execution_count": null,
   "metadata": {
    "vscode": {
     "languageId": "plaintext"
    }
   },
   "outputs": [],
   "source": [
    "DATA_PATH = DATA_DIR / \"raw/dataset.csv\" ## REPLACE THIS\n",
    "target_col = \"label\"\n",
    "\n",
    "df = load_data(DATA_PATH)\n",
    "df.head()"
   ]
  },
  {
   "cell_type": "code",
   "execution_count": null,
   "metadata": {
    "vscode": {
     "languageId": "plaintext"
    }
   },
   "outputs": [],
   "source": [
    "df, feature_cols, artifacts = feature_engineering_train(df)\n",
    "\n",
    "# Save feature cols and artifacts if inference is needed"
   ]
  },
  {
   "cell_type": "code",
   "execution_count": null,
   "metadata": {
    "vscode": {
     "languageId": "plaintext"
    }
   },
   "outputs": [],
   "source": [
    "model, oof_preds, evaluation_results = train(\n",
    "    X=df[feature_cols],\n",
    "    y=df[target_col],\n",
    "    metrics=['f1', 'accuracy', 'balanced_accuracy'],\n",
    ")"
   ]
  },
  {
   "cell_type": "code",
   "execution_count": null,
   "metadata": {
    "vscode": {
     "languageId": "plaintext"
    }
   },
   "outputs": [],
   "source": [
    "from rich import print\n",
    "print(evaluation_results)"
   ]
  }
 ],
 "metadata": {
  "language_info": {
   "name": "python"
  }
 },
 "nbformat": 4,
 "nbformat_minor": 2
}
